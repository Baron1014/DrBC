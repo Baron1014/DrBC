{
 "cells": [
  {
   "cell_type": "code",
   "execution_count": 1,
   "id": "368a38ba-e552-4507-81f8-031cfaa5ec6b",
   "metadata": {},
   "outputs": [
    {
     "name": "stdout",
     "output_type": "stream",
     "text": [
      "PyTorch has version 1.10.2\n"
     ]
    }
   ],
   "source": [
    "# Import the NetworkX package\n",
    "import networkx as nx\n",
    "\n",
    "import torch\n",
    "print(\"PyTorch has version {}\".format(torch.__version__))"
   ]
  },
  {
   "cell_type": "code",
   "execution_count": 2,
   "id": "db633216-c0f2-41a1-9eb3-1592e47dd3a5",
   "metadata": {},
   "outputs": [
    {
     "name": "stdout",
     "output_type": "stream",
     "text": [
      "/Users/wangshihao/Research/SocialNetwork/HW1\n"
     ]
    }
   ],
   "source": [
    "!pwd"
   ]
  },
  {
   "cell_type": "code",
   "execution_count": 3,
   "id": "ca711379-4a91-42c3-a4f7-c3d5bb88ee1e",
   "metadata": {},
   "outputs": [
    {
     "data": {
      "text/plain": [
       "5000"
      ]
     },
     "execution_count": 3,
     "metadata": {},
     "output_type": "execute_result"
    }
   ],
   "source": [
    "# create BC dict\n",
    "f = open('../data/hw1_data/Synthetic/5000/0_score.txt')\n",
    "bc_dict = dict()\n",
    "for line in f:\n",
    "    line = line.replace(\"\\n\", \"\")\n",
    "    a, b = line.split(\"\\t\")\n",
    "    bc_dict[int(a)] = float(b)\n",
    "f.close()\n",
    "len(bc_dict.keys())"
   ]
  },
  {
   "cell_type": "code",
   "execution_count": 4,
   "id": "a458233e-c105-4c4f-a332-2ce23fc7b8d8",
   "metadata": {},
   "outputs": [],
   "source": [
    "f = open('../data/hw1_data/Synthetic/5000/0.txt')\n",
    "text = []\n",
    "for line in f:\n",
    "    line = line.replace(\"\\n\", \"\")\n",
    "    a, b = line.split(\"\\t\")\n",
    "    text.append((int(a), int(b)))\n",
    "f.close()"
   ]
  },
  {
   "cell_type": "markdown",
   "id": "65aa3787-e5d0-46df-87f9-0ddff60b9bd0",
   "metadata": {},
   "source": [
    "## 1. Graph"
   ]
  },
  {
   "cell_type": "code",
   "execution_count": 19,
   "id": "9175e172-0cfb-46c8-a064-e7f471351749",
   "metadata": {},
   "outputs": [
    {
     "name": "stdout",
     "output_type": "stream",
     "text": [
      "False\n"
     ]
    }
   ],
   "source": [
    "# Create an undirected graph G\n",
    "G = nx.Graph(text)\n",
    "print(G.is_directed())"
   ]
  },
  {
   "cell_type": "code",
   "execution_count": 20,
   "id": "09f37a36-0b69-43f2-9fb9-f3d46463a09a",
   "metadata": {},
   "outputs": [
    {
     "name": "stdout",
     "output_type": "stream",
     "text": [
      "G has 5000 nodes\n",
      "G has 19982 edges\n"
     ]
    }
   ],
   "source": [
    "# Get number of nodes\n",
    "num_nodes = G.number_of_nodes()\n",
    "print(\"G has {} nodes\".format(num_nodes))\n",
    "\n",
    "# Get number of edges\n",
    "num_edges = G.number_of_edges()\n",
    "print(\"G has {} edges\".format(num_edges))"
   ]
  },
  {
   "cell_type": "code",
   "execution_count": 21,
   "id": "8b3b83d5-05ec-4e34-9531-385d7107ddf5",
   "metadata": {},
   "outputs": [
    {
     "name": "stdout",
     "output_type": "stream",
     "text": [
      "Node 1 has degree 178\n"
     ]
    }
   ],
   "source": [
    "node_id = 1\n",
    "\n",
    "# Degree of node 1\n",
    "print(\"Node {} has degree {}\".format(node_id, G.degree[node_id]))\n",
    "\n",
    "# Get neighbor of node 1\n",
    "#for neighbor in G.neighbors(node_id):\n",
    "#    print(\"Node {} has neighbor {}\".format(node_id, neighbor))"
   ]
  },
  {
   "cell_type": "code",
   "execution_count": 30,
   "id": "35f0865e-4be7-481b-9c17-cdf277806a10",
   "metadata": {},
   "outputs": [
    {
     "data": {
      "text/plain": [
       "{'x': [239, 1, 1], 'y': 0.09417453090592563}"
      ]
     },
     "execution_count": 30,
     "metadata": {},
     "output_type": "execute_result"
    }
   ],
   "source": [
    "# set x feature\n",
    "dergees = {node:[val, 1, 1] for (node, val) in G.degree()}\n",
    "nx.set_node_attributes(G, dergees, \"x\")\n",
    "nx.set_node_attributes(G, bc_dict, \"y\")\n",
    "G.nodes[0]"
   ]
  },
  {
   "cell_type": "code",
   "execution_count": 458,
   "id": "ffc99ef1-337f-42ac-b5af-f3bd9e37c608",
   "metadata": {},
   "outputs": [],
   "source": [
    "def read_Data(num):\n",
    "    # create BC dict\n",
    "    f = open(f'../data/hw1_data/Synthetic/5000/{num}_score.txt')\n",
    "    bc_dict = dict()\n",
    "    for line in f:\n",
    "        line = line.replace(\"\\n\", \"\")\n",
    "        a, b = line.split(\"\\t\")\n",
    "        bc_dict[int(a)] = float(b)\n",
    "    f.close()\n",
    "    len(bc_dict.keys())\n",
    "    \n",
    "    # read node pair\n",
    "    f = open(f'../data/hw1_data/Synthetic/5000/{num}.txt')\n",
    "    text = []\n",
    "    for line in f:\n",
    "        line = line.replace(\"\\n\", \"\")\n",
    "        a, b = line.split(\"\\t\")\n",
    "        text.append((int(a), int(b)))\n",
    "    f.close()\n",
    "    \n",
    "    # Create an undirected graph G\n",
    "    G = nx.Graph(text)\n",
    "    \n",
    "    dergees = {node:[val, 1, 1] for (node, val) in G.degree()}\n",
    "    nx.set_node_attributes(G, dergees, \"x\")\n",
    "    nx.set_node_attributes(G, bc_dict, \"y\")\n",
    "    \n",
    "    return G"
   ]
  },
  {
   "cell_type": "markdown",
   "id": "d04b2306-5277-4fb5-a283-c383e7916efc",
   "metadata": {},
   "source": [
    "## 2. Pytorch Geometric"
   ]
  },
  {
   "cell_type": "code",
   "execution_count": 37,
   "id": "304e0c6a-5103-4dc3-bf67-504b0c41d6d6",
   "metadata": {},
   "outputs": [
    {
     "name": "stdout",
     "output_type": "stream",
     "text": [
      "Data(x=[5000, 3], edge_index=[2, 39964], y=[5000])\n",
      "tensor([[239,   1,   1],\n",
      "        [196,   1,   1],\n",
      "        [220,   1,   1],\n",
      "        ...,\n",
      "        [  4,   1,   1],\n",
      "        [  4,   1,   1],\n",
      "        [  4,   1,   1]])\n",
      "tensor([9.4175e-02, 7.6438e-02, 9.2790e-02,  ..., 2.8613e-05, 2.5731e-05,\n",
      "        2.0743e-05])\n",
      "tensor([[   0,    0,    0,  ..., 4999, 4999, 4999],\n",
      "        [   1,    2,    3,  ..., 2523, 4508, 4803]])\n",
      "Number of features: 3\n",
      "Data(x=[5000, 3], edge_index=[2, 39964], y=[5000])\n",
      "==============================================================\n",
      "Number of nodes: 5000\n",
      "Number of edges: 39964\n",
      "Average node degree: 15.99\n"
     ]
    }
   ],
   "source": [
    "from torch_geometric.utils.convert import from_networkx\n",
    "# Convert the graph into PyTorch geometric\n",
    "pyg_graph = from_networkx(G)\n",
    "print(pyg_graph)\n",
    "print(pyg_graph.x)\n",
    "print(pyg_graph.y)\n",
    "print(pyg_graph.edge_index)\n",
    "print(f'Number of features: {pyg_graph.num_features}')\n",
    "\n",
    "data = pyg_graph  # Get the first graph object.\n",
    "\n",
    "print(data)\n",
    "print('==============================================================')\n",
    "\n",
    "# Gather some statistics about the graph.\n",
    "print(f'Number of nodes: {data.num_nodes}')\n",
    "print(f'Number of edges: {data.num_edges}')\n",
    "print(f'Average node degree: {(2*data.num_edges) / data.num_nodes:.2f}')"
   ]
  },
  {
   "cell_type": "markdown",
   "id": "49beaa52-d612-4ea8-8e25-f59ecd38026d",
   "metadata": {},
   "source": [
    "## 2.1. Model"
   ]
  },
  {
   "cell_type": "code",
   "execution_count": 51,
   "id": "96f2abe6-1f05-4b38-8172-0ca307beee16",
   "metadata": {},
   "outputs": [
    {
     "name": "stdout",
     "output_type": "stream",
     "text": [
      "tensor([[   0,    1],\n",
      "        [   0,    2],\n",
      "        [   0,    3],\n",
      "        ...,\n",
      "        [4999, 2523],\n",
      "        [4999, 4508],\n",
      "        [4999, 4803]])\n"
     ]
    }
   ],
   "source": [
    "edge_index = data.edge_index\n",
    "print(edge_index.t())"
   ]
  },
  {
   "cell_type": "code",
   "execution_count": 459,
   "id": "280e0ffc-3607-4802-b57a-a7f30e6610d5",
   "metadata": {},
   "outputs": [
    {
     "name": "stdout",
     "output_type": "stream",
     "text": [
      "Encorder(\n",
      "  (input): GCNConv(3, 128)\n",
      "  (conv): GCNConv(128, 128)\n",
      "  (gru): GRU(128, 128, bias=False)\n",
      ")\n"
     ]
    }
   ],
   "source": [
    "import torch\n",
    "from torch.nn import GRU\n",
    "from torch_geometric.nn import GCNConv\n",
    "\n",
    "L = 5\n",
    "class Encorder(torch.nn.Module):\n",
    "    def __init__(self):\n",
    "        super(Encorder, self).__init__()\n",
    "        torch.manual_seed(12345)\n",
    "        self.input = GCNConv(pyg_graph.num_features, 128)\n",
    "        self.conv = GCNConv(128, 128)\n",
    "        self.gru = GRU(128, 128, bias=False)\n",
    "\n",
    "    def forward(self, x, edge_index):\n",
    "        # h1\n",
    "        h1 = self.input(x, edge_index)\n",
    "        h1 = h1.relu()\n",
    "        hi_1 = torch.nn.functional.normalize(h1, p=2, dim=1)\n",
    "        # h2 ~ L\n",
    "        stack_h = hi_1.reshape(1, -1, 128)\n",
    "        for epoch in range(L):\n",
    "            for i in range(x.shape[0]):\n",
    "                # Caculate Neighbor\n",
    "                indices = torch.nonzero(edges[0]==i)\n",
    "                neighbor_index = edges[1,torch.flatten(indices)]\n",
    "                n_degree = pyg_graph.x[neighbor_index, 0]\n",
    "                v_degree = pyg_graph.x[i, 0] #x[i, 0]\n",
    "                dj = torch.sqrt(n_degree+1)\n",
    "                dv = torch.sqrt(v_degree+1)\n",
    "                normal_n = torch.div(hi_1[neighbor_index].reshape(128, -1), dv * dj)\n",
    "                h_n = torch.sum(normal_n, 1)\n",
    "\n",
    "                # GRU Cell\n",
    "                hv = hi_1[i]\n",
    "                hv, _ = self.gru(hv.reshape(1, 1, 128), h_n.reshape(1, 1, 128)) # (input, hidden)\n",
    "                # concat GRU result\n",
    "                if i == 0:\n",
    "                    v_cat = hv\n",
    "                else: \n",
    "                    v_cat = torch.cat([v_cat, hv], dim=0)\n",
    "\n",
    "            # normalize new hi_1\n",
    "            hi_1 = v_cat.reshape(-1, 128)\n",
    "            hi_1 = torch.nn.functional.normalize(h1, p=2, dim=1)\n",
    "            # store hidden result\n",
    "            h_cat = torch.cat([stack_h, hi_1.reshape(1, -1, 128)], dim=0)\n",
    "        # z is maximum from all hidden values\n",
    "        z, _ = torch.max(h_cat, 0)\n",
    "        \n",
    "        return z\n",
    "\n",
    "encorder = Encorder()\n",
    "print(encorder)"
   ]
  },
  {
   "cell_type": "code",
   "execution_count": 442,
   "id": "1932e1c8-52e6-4a58-a440-e883e2c7ff00",
   "metadata": {},
   "outputs": [
    {
     "name": "stdout",
     "output_type": "stream",
     "text": [
      "tensor([[0.0000, 0.0641, 0.0000,  ..., 0.0000, 0.1850, 0.0847],\n",
      "        [0.0000, 0.0650, 0.0000,  ..., 0.0000, 0.1848, 0.0838],\n",
      "        [0.0000, 0.0653, 0.0000,  ..., 0.0000, 0.1848, 0.0836],\n",
      "        ...,\n",
      "        [0.0000, 0.0557, 0.0000,  ..., 0.0000, 0.1854, 0.0920],\n",
      "        [0.0000, 0.0545, 0.0000,  ..., 0.0000, 0.1853, 0.0929],\n",
      "        [0.0000, 0.0553, 0.0000,  ..., 0.0000, 0.1854, 0.0923]],\n",
      "       grad_fn=<MaxBackward0>)\n"
     ]
    }
   ],
   "source": [
    "out= encorder(pyg_graph.x.float(), pyg_graph.edge_index)\n",
    "print(out)"
   ]
  },
  {
   "cell_type": "code",
   "execution_count": 444,
   "id": "a607196d-2299-497b-8146-db581c526e1f",
   "metadata": {},
   "outputs": [
    {
     "name": "stdout",
     "output_type": "stream",
     "text": [
      "Decorder(\n",
      "  (linear): Linear(in_features=128, out_features=32, bias=True)\n",
      "  (output): Linear(in_features=32, out_features=1, bias=True)\n",
      ")\n"
     ]
    }
   ],
   "source": [
    "from torch.nn import Linear\n",
    "class Decorder(torch.nn.Module):\n",
    "    def __init__(self):\n",
    "        super(Decorder, self).__init__()\n",
    "        torch.manual_seed(12345)\n",
    "        self.linear = Linear(128, 32)\n",
    "        self.output = Linear(32, 1)\n",
    "\n",
    "    def forward(self, embedding):\n",
    "        h = self.linear(embedding)\n",
    "        h = h.relu()\n",
    "        out = self.output(h)\n",
    "        \n",
    "        return out\n",
    "    \n",
    "decorder = Decorder()\n",
    "print(decorder)"
   ]
  },
  {
   "cell_type": "code",
   "execution_count": 446,
   "id": "4b954d17-3673-4831-8e69-a3c9f0686d8d",
   "metadata": {},
   "outputs": [
    {
     "name": "stdout",
     "output_type": "stream",
     "text": [
      "tensor([[0.2054],\n",
      "        [0.2053],\n",
      "        [0.2053],\n",
      "        ...,\n",
      "        [0.2055],\n",
      "        [0.2055],\n",
      "        [0.2055]], grad_fn=<AddmmBackward0>)\n"
     ]
    }
   ],
   "source": [
    "y_hat= decorder(out)\n",
    "print(y_hat)"
   ]
  },
  {
   "cell_type": "code",
   "execution_count": 518,
   "id": "1a41a485-2af6-401d-af2d-c375db99a2c4",
   "metadata": {},
   "outputs": [
    {
     "data": {
      "text/plain": [
       "tensor(-0., grad_fn=<DivBackward1>)"
      ]
     },
     "execution_count": 518,
     "metadata": {},
     "output_type": "execute_result"
    }
   ],
   "source": [
    "from random import randint \n",
    "\n",
    "def sample_node(y_hat, edge_index, sample_num = 10000):\n",
    "    loss = 0\n",
    "    sigmoid = torch.nn.Sigmoid()\n",
    "    for i in range(sample_num):\n",
    "        idx = randint(0, edge_index.shape[1]-1)\n",
    "        rand_edge = edge_index[:,idx]\n",
    "        # loss\n",
    "        yij = sigmoid(y_hat[rand_edge[0]] - y_hat[rand_edge[1]])\n",
    "        bij = sigmoid(pyg_graph.y[rand_edge[0]] - pyg_graph.y[rand_edge[1]].reshape(1))\n",
    "        if i == 0:\n",
    "            yij_cat = yij\n",
    "            bij_cat = bij\n",
    "        else:\n",
    "            yij_cat = torch.cat((yij_cat, yij))\n",
    "            bij_cat = torch.cat((bij_cat, bij))\n",
    "        #loss += -sigmoid(bij)*torch.log(sigmoid(yij)) - (1-sigmoid(bij))*torch.log(1-sigmoid(yij))\n",
    "    \n",
    "    return yij_cat, bij_cat\n",
    "yij, bij = sample_node(y_hat, edges)\n",
    "loss = criterion(yij.reshape(-1, 1), bij.reshape(-1, 1))\n",
    "loss"
   ]
  },
  {
   "cell_type": "code",
   "execution_count": null,
   "id": "4ad39a9f-7116-4e55-b984-2205fb4ce094",
   "metadata": {},
   "outputs": [],
   "source": [
    "# training\n",
    "lr = 0.0001\n",
    "MAX_ITERATION = 10000\n",
    "encorder = Encorder()\n",
    "decorder = Decorder()\n",
    "criterion = torch.nn.CrossEntropyLoss()  # Define loss criterion.\n",
    "encorder_optimizer = torch.optim.Adam(encorder.parameters(), lr=lr)\n",
    "decorder_optimizer = torch.optim.Adam(decorder.parameters(), lr=lr)\n",
    "\n",
    "for i in range(MAX_ITERATION):\n",
    "    G = get_training_data()\n",
    "    pyg_graph = from_networkx(G)\n",
    "    edges = pyg_graph.edge_index\n",
    "\n",
    "    # get each node's embedding z\n",
    "    z= encorder(pyg_graph.x.float(), pyg_graph.edge_index)\n",
    "    # compute BC ranking score\n",
    "    y_hat= decorder(z)\n",
    "    # compute loss\n",
    "    yij, bij = sample_node(y_hat, edges)\n",
    "    loss = criterion(yij.reshape(-1, 1), bij.reshape(-1, 1))\n",
    "    print(loss)\n",
    "    encorder_optimizer.zero_grad()\n",
    "    decorder_optimizer.zero_grad()\n",
    "    loss.backward()\n",
    "    encorder_optimizer.step() \n",
    "    decorder_optimizer.step() "
   ]
  },
  {
   "cell_type": "code",
   "execution_count": 481,
   "id": "2b1983ab-e94d-4d17-b558-4f5ac391199a",
   "metadata": {},
   "outputs": [],
   "source": [
    "def get_training_data(cur_n = 5000):\n",
    "    g = nx.powerlaw_cluster_graph(n=cur_n, m=4, p=0.05)\n",
    "    bc_value = nx.betweenness_centrality(g)\n",
    "    dergees = {node:[val, 1, 1] for (node, val) in g.degree()}\n",
    "    nx.set_node_attributes(g, dergees, \"x\")\n",
    "    nx.set_node_attributes(g, bc_value, \"y\")\n",
    "    \n",
    "    return g\n"
   ]
  },
  {
   "cell_type": "code",
   "execution_count": null,
   "id": "6733d142-4b08-414c-a1d9-ff86d23cdf53",
   "metadata": {},
   "outputs": [],
   "source": []
  }
 ],
 "metadata": {
  "kernelspec": {
   "display_name": "Python 3 (ipykernel)",
   "language": "python",
   "name": "python3"
  },
  "language_info": {
   "codemirror_mode": {
    "name": "ipython",
    "version": 3
   },
   "file_extension": ".py",
   "mimetype": "text/x-python",
   "name": "python",
   "nbconvert_exporter": "python",
   "pygments_lexer": "ipython3",
   "version": "3.8.9"
  }
 },
 "nbformat": 4,
 "nbformat_minor": 5
}
